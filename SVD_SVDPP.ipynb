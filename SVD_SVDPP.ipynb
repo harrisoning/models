{
 "cells": [
  {
   "cell_type": "code",
   "execution_count": 25,
   "metadata": {},
   "outputs": [
    {
     "name": "stdout",
     "output_type": "stream",
     "text": [
      "Evaluating RMSE, MAE of algorithm SVD on 5 split(s).\n",
      "\n",
      "                  Fold 1  Fold 2  Fold 3  Fold 4  Fold 5  Mean    Std     \n",
      "RMSE (testset)    0.9376  0.9428  0.9264  0.9382  0.9360  0.9362  0.0054  \n",
      "MAE (testset)     0.7396  0.7421  0.7307  0.7394  0.7379  0.7379  0.0039  \n",
      "Fit time          3.64    3.66    3.65    3.65    3.63    3.65    0.01    \n",
      "Test time         0.12    0.11    0.11    0.11    0.11    0.11    0.00    \n",
      "Evaluating RMSE, MAE of algorithm BaselineOnly on 5 split(s).\n",
      "\n",
      "                  Fold 1  Fold 2  Fold 3  Fold 4  Fold 5  Mean    Std     \n",
      "RMSE (testset)    0.9367  0.9396  0.9395  0.9481  0.9437  0.9415  0.0040  \n",
      "MAE (testset)     0.7391  0.7443  0.7432  0.7488  0.7447  0.7440  0.0031  \n",
      "Fit time          0.13    0.13    0.13    0.14    0.13    0.13    0.00    \n",
      "Test time         0.08    0.08    0.08    0.08    0.08    0.08    0.00    \n",
      "Evaluating RMSE, MAE of algorithm BaselineOnly on 5 split(s).\n",
      "\n",
      "                  Fold 1  Fold 2  Fold 3  Fold 4  Fold 5  Mean    Std     \n",
      "RMSE (testset)    0.9474  0.9387  0.9514  0.9474  0.9354  0.9441  0.0060  \n",
      "MAE (testset)     0.7496  0.7443  0.7551  0.7497  0.7435  0.7484  0.0042  \n",
      "Fit time          0.03    0.03    0.03    0.03    0.03    0.03    0.00    \n",
      "Test time         0.08    0.08    0.08    0.08    0.08    0.08    0.00    \n"
     ]
    },
    {
     "data": {
      "text/plain": [
       "{'test_rmse': array([0.94741509, 0.93871749, 0.95135851, 0.94740705, 0.93537737]),\n",
       " 'test_mae': array([0.74960736, 0.74425686, 0.75510764, 0.74974052, 0.74349064]),\n",
       " 'fit_time': (0.02989029884338379,\n",
       "  0.028954029083251953,\n",
       "  0.029922008514404297,\n",
       "  0.029948711395263672,\n",
       "  0.028955698013305664),\n",
       " 'test_time': (0.0827786922454834,\n",
       "  0.08075213432312012,\n",
       "  0.08075475692749023,\n",
       "  0.08175253868103027,\n",
       "  0.07978224754333496)}"
      ]
     },
     "execution_count": 25,
     "metadata": {},
     "output_type": "execute_result"
    }
   ],
   "source": [
    "from surprise import SVDpp, SVD, BaselineOnly\n",
    "from surprise import Dataset\n",
    "from surprise.model_selection import cross_validate\n",
    "\n",
    "# Load the movielens-100k dataset (download it if needed).\n",
    "data = Dataset.load_builtin('ml-100k')\n",
    "\n",
    "algo1 = SVD()\n",
    "cross_validate(algo1, data, measures=['RMSE', 'MAE'], n_jobs=-1, cv=5, verbose=True)\n",
    "\n",
    "algo2 = BaselineOnly(bsl_options={'method': 'sgd'})\n",
    "cross_validate(algo2, data, measures=['RMSE', 'MAE'], n_jobs=-1, cv=5, verbose=True)\n",
    "\n",
    "algo3 = BaselineOnly(bsl_options={'method': 'als'})\n",
    "cross_validate(algo3, data, measures=['RMSE', 'MAE'], n_jobs=-1, cv=5, verbose=True)"
   ]
  },
  {
   "cell_type": "code",
   "execution_count": null,
   "metadata": {},
   "outputs": [],
   "source": []
  }
 ],
 "metadata": {
  "kernelspec": {
   "display_name": "Python 3",
   "language": "python",
   "name": "python3"
  },
  "language_info": {
   "codemirror_mode": {
    "name": "ipython",
    "version": 3
   },
   "file_extension": ".py",
   "mimetype": "text/x-python",
   "name": "python",
   "nbconvert_exporter": "python",
   "pygments_lexer": "ipython3",
   "version": "3.6.7"
  }
 },
 "nbformat": 4,
 "nbformat_minor": 2
}
